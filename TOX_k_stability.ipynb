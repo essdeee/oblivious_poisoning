{
 "cells": [
  {
   "cell_type": "markdown",
   "metadata": {},
   "source": [
    "# TOX Dataset: k-Stability Experiments\n",
    "Experiments to show that there exist features that are k-unstable."
   ]
  },
  {
   "cell_type": "code",
   "execution_count": 1,
   "metadata": {},
   "outputs": [],
   "source": [
    "import pandas as pd\n",
    "import matplotlib.pyplot as plt\n",
    "import numpy as np\n",
    "import scipy.io as sio\n",
    "\n",
    "from sklearn.linear_model import Lasso\n",
    "from sklearn.datasets import load_boston\n",
    "from sklearn.preprocessing import StandardScaler"
   ]
  },
  {
   "cell_type": "markdown",
   "metadata": {},
   "source": [
    "## Load dataset\n",
    "Load the TOX dataset. There are 171 instances, 5748 features and a multiclass outcome variable in the set \\{1, 2, 3, 4\\}. We standardize by subtracting the mean and dividing by the std. deviation.\n",
    "\n",
    "The dataset's 5748 features each represent a gene, where the features represent myocarditis and dilated cardiomyopathy (DCM) infeacted males and females as well as uninfected males and females."
   ]
  },
  {
   "cell_type": "code",
   "execution_count": 2,
   "metadata": {},
   "outputs": [
    {
     "name": "stdout",
     "output_type": "stream",
     "text": [
      "(171, 5748)\n",
      "(171, 1)\n",
      "[[  373.65   368.79  1550.87 ... 18131.59   242.74    58.56]\n",
      " [  499.84   218.57   989.16 ... 14562.46   188.32   106.71]\n",
      " [  474.83   447.26  1670.79 ... 21018.33   370.85   129.86]\n",
      " [  391.48   126.34  1677.33 ... 21847.45   209.69    93.86]\n",
      " [  559.19    91.97  1658.66 ... 21651.79   309.88   118.17]]\n",
      "[[1]\n",
      " [1]\n",
      " [1]\n",
      " [1]\n",
      " [1]]\n"
     ]
    }
   ],
   "source": [
    "mat_file = sio.loadmat('./data/TOX_171.mat')\n",
    "X = mat_file['X']\n",
    "y = mat_file['Y']\n",
    "print(np.shape(X))\n",
    "print(np.shape(y))\n",
    "print(X[:5])\n",
    "print(y[:5])"
   ]
  },
  {
   "cell_type": "code",
   "execution_count": 3,
   "metadata": {},
   "outputs": [
    {
     "name": "stdout",
     "output_type": "stream",
     "text": [
      "[[-0.49694467  0.85092432 -0.23320135 ... -0.66042338 -0.09218021\n",
      "  -1.48632536]\n",
      " [ 0.65906463 -0.26286412 -1.63346649 ... -1.6931084  -0.64808943\n",
      "  -0.34411916]\n",
      " [ 0.42995144  1.43273086  0.06574258 ...  0.17482027  1.21648445\n",
      "   0.20504125]\n",
      " [-0.33360649 -0.94669255  0.0820459  ...  0.41471621 -0.42979137\n",
      "  -0.6489447 ]\n",
      " [ 1.20276185 -1.20152485  0.03550418 ...  0.35810433  0.5936659\n",
      "  -0.07226697]]\n",
      "[[-1.29434944]\n",
      " [-1.29434944]\n",
      " [-1.29434944]\n",
      " [-1.29434944]\n",
      " [-1.29434944]]\n"
     ]
    }
   ],
   "source": [
    "# normalize the dataset \n",
    "scaler = StandardScaler()\n",
    "X = scaler.fit_transform(X)\n",
    "y_mean = np.mean(y)\n",
    "y_std = np.std(y)\n",
    "y = (y - y_mean)/y_std\n",
    "print(X[:5])\n",
    "print(y[:5])"
   ]
  },
  {
   "cell_type": "markdown",
   "metadata": {},
   "source": [
    "## LASSO Model\n",
    "We use Lasso Regression to find the k-unstable features. Following optimization problem:\n",
    "\n",
    "$$\\min_{\\theta} \\frac{1}{n} \\cdot \\|Y - X\\theta|_2^2 + \\frac{2\\lambda}{n} \\cdot \\|\\theta\\|_1$$\n",
    "\n",
    "Because Lasso induces sparsity on the resulting $\\theta$ vector of the model (typically used for feature selection), we find all the features that get set to 0, and call this our \"target set.\" We aim to loop through the features in our \"target set\" and find the smallest value of $k$ (the number of poison rows) that adds that specific feature to $\\theta$. \n",
    "\n",
    "sklearn's implementation of LASSO, that we're using here, is the following equivalent optimization problem, with hyperparameter $\\alpha$:\n",
    "\n",
    "$$\\min_{\\theta} \\frac{1}{2n} \\|Y - X \\theta\\|_2^2 + \\alpha \\|\\theta\\|_1$$"
   ]
  },
  {
   "cell_type": "code",
   "execution_count": 4,
   "metadata": {},
   "outputs": [
    {
     "name": "stdout",
     "output_type": "stream",
     "text": [
      "[ 366  617  919 1250 1269 2013 2494 2685 2906 3185 3530 3873 3967 3995\n",
      " 4408 4409 4415 4422 4436 4569 5231 5587 5592]\n",
      "Number of positive nonzero entries at alpha=0.1: 23\n"
     ]
    }
   ],
   "source": [
    "# TODO: get a more systematic way to find alpha\n",
    "alpha_val = 0.1\n",
    "lasso = Lasso(alpha=alpha_val) # default: alpha = 1.0\n",
    "lasso_coef = lasso.fit(X,y).coef_\n",
    "print(np.where(lasso_coef > 0)[0])\n",
    "print(\"Number of positive nonzero entries at alpha={}: {}\".format(alpha_val, len(lasso_coef[lasso_coef > 0])))"
   ]
  },
  {
   "cell_type": "code",
   "execution_count": 5,
   "metadata": {},
   "outputs": [
    {
     "name": "stdout",
     "output_type": "stream",
     "text": [
      "5707\n",
      "[   0    1    2 ... 5745 5746 5747]\n"
     ]
    }
   ],
   "source": [
    "# Initialize the support and set of poisoning targets\n",
    "support = np.where(abs(lasso_coef) > 1.e-6)[0]\n",
    "target_set = np.where(abs(lasso_coef) <= 1e-6)[0]\n",
    "print(len(target_set))\n",
    "print(target_set)"
   ]
  },
  {
   "cell_type": "markdown",
   "metadata": {},
   "source": [
    "### Poisoning Attack\n",
    "We follow the poisoning attack proposed in **Theorem 4.5** and **Construction 4.6**. That is, for some $k$, the number of posion rows, we generate:\n",
    "\n",
    "$$X_p = \\left[ {\\begin{array}{cccc}\n",
    "   0 & \\dots & 1 & \\dots & 0 \\\\\n",
    "   \\vdots & \\ddots & \\vdots & \\ddots & \\vdots \\\\\n",
    "   0 & \\dots & 1 & \\dots & 0 \\\\\n",
    "  \\end{array} } \n",
    "  \\right]\n",
    "$$\n",
    "\n",
    "for the features of our attack, and \n",
    "\n",
    "$$Y_p = \\left[ {\\begin{array}{c}\n",
    "   1 \\\\\n",
    "   \\vdots \\\\\n",
    "   1\n",
    "  \\end{array} } \n",
    "  \\right]\n",
    "$$\n",
    "\n",
    "for the outcome variable of our attack. Then, for $X_0$ and $Y_0$ our original dataset, we append the poison rows $X_p$ and $Y_p$ to get:\n",
    "\n",
    "$$\\left[ {\\begin{array}{c|c}\n",
    "   X_0 & Y_0 \\\\\n",
    "   X_p & Y_p \\\\\n",
    "  \\end{array} } \n",
    "  \\right]\n",
    "$$"
   ]
  },
  {
   "cell_type": "code",
   "execution_count": 6,
   "metadata": {},
   "outputs": [],
   "source": [
    "# takes the number of rows to poison, fits a LASSO on the poisoned dataset\n",
    "def poisoned_lasso(target, poison_rows, X, y): \n",
    "    # Generate poison vectors\n",
    "    X_poison = np.zeros(shape=(poison_rows, len(X[0])))\n",
    "    X_poison[:, target] += 1 # switch last column to 1's\n",
    "    y_poison = np.ones(poison_rows)        \n",
    "\n",
    "    # Poisoned datasets\n",
    "    X_poisoned = np.vstack([X, X_poison])\n",
    "    y_poisoned = np.append(y, y_poison)\n",
    "    \n",
    "    poisoned_lasso = lasso.fit(X_poisoned,y_poisoned)\n",
    "    return poisoned_lasso.coef_[target], poisoned_lasso.coef_\n",
    "\n",
    "def plot_features_k_full(target_k_dict):\n",
    "    mean_k = np.asarray(list(target_k_dict.values())).mean()\n",
    "    plt.figure(figsize=(20, 3))\n",
    "    \n",
    "    # Set color of minimum feature\n",
    "    colors = ['c']*len(list(target_k_dict.values()))\n",
    "    colors[0] = 'r'\n",
    "            \n",
    "    plt.bar(range(len(target_k_dict)), list(target_k_dict.values()), align='center', color=colors)\n",
    "    x_ticks = []\n",
    "    #for key in list(target_k_dict.keys()):\n",
    "    #    x_ticks.append(str(key))\n",
    "    #plt.xticks(range(len(target_k_dict)), x_ticks, rotation=90)\n",
    "    plt.xticks([], [])\n",
    "    plt.axhline(y=mean_k,linewidth=1, color='r')\n",
    "    plt.xlabel(\"Features Not in Supp\")\n",
    "    plt.ylabel(\"Minimum k to add to Supp\")\n",
    "    plt.show()\n",
    "    \n",
    "def plot_features_k_random_subset(target_k_dict, size):\n",
    "    mean_k = np.asarray(list(target_k_dict.values())).mean()\n",
    "    fig = plt.figure(figsize=(20, 3))\n",
    "    \n",
    "    # Set color of minimum feature\n",
    "    colors = ['c']*len(list(target_k_dict.values()))\n",
    "    colors[0] = 'r'\n",
    "    \n",
    "    min_feature = list(target_k_dict.keys())[0]\n",
    "    min_value = list(target_k_dict.values())[0]\n",
    "    \n",
    "    # Randomly sample 'size' number of features to graph (NOT including the minimum)\n",
    "    target_keys = list(target_k_dict.keys()).copy()\n",
    "    target_keys.remove(min_feature)\n",
    "    subset_features = np.random.choice(target_keys, size, replace=False)\n",
    "    subset_values = []\n",
    "    for feature in subset_features:\n",
    "        subset_values.append(target_k_dict[feature])\n",
    "        \n",
    "    # Append min feature and value to start of lists\n",
    "    subset_features = np.insert(subset_features, 0, min_feature)\n",
    "    subset_values = np.insert(subset_values, 0, min_value)\n",
    "    \n",
    "    plt.bar(range(len(subset_features)), subset_values, align='center', color=colors)\n",
    "    x_ticks = []\n",
    "    for key in subset_features:\n",
    "        x_ticks.append(str(key))\n",
    "    plt.xticks(range(len(subset_features)), x_ticks, rotation=90)\n",
    "    plt.axhline(y=mean_k,linewidth=1, color='r')\n",
    "    plt.title(\"SMK k-stability\")\n",
    "    plt.xlabel(\"Features Not in Supp\")\n",
    "    plt.ylabel(\"Minimum k to add to Supp\")\n",
    "    fig.savefig('TOX_final.png', format='png', dpi=600)\n",
    "    plt.show()"
   ]
  },
  {
   "cell_type": "markdown",
   "metadata": {},
   "source": [
    "### Experiment Setup\n",
    "We aim to find features that exhibit k-unstability, as compared to the other features in our dataset. To do this, we iteratively attempt the poison attack on each feature $i$, varying $k$ (the number of rows in our poison attack) until we find the smallest $k$ that adds $i$ to the sparse LASSO vector (\"adding\" meaning making its value positive). Do this for each feature. \n",
    "\n",
    "Because there are 5748 features, we do this on random subsets of 50 features from the 5748. We take 5 of these subsets and check the results.\n",
    "\n",
    "Conjecture: there exist some features that are much more k-unstable than others, i.e. the $k$ needed to poison that feature is substantially lower than the average value of $k$ across all features."
   ]
  },
  {
   "cell_type": "markdown",
   "metadata": {},
   "source": [
    "## Binary Search"
   ]
  },
  {
   "cell_type": "code",
   "execution_count": 7,
   "metadata": {},
   "outputs": [],
   "source": [
    "# Binary Search for k-values\n",
    "# can't really do this because, at some point, they just all go to 0 again. \n",
    "# one possible solution if we really need binary search: try over a set of possible K_RANGES\n",
    "K_RANGE = 1000\n",
    "k_values = list(range(K_RANGE))\n",
    "target_k_dict = dict()\n",
    "\n",
    "for target in target_set:\n",
    "    first = 0\n",
    "    last = K_RANGE - 1\n",
    "    found = False\n",
    "    while(first <= last and not found):\n",
    "        mid = (first + last)//2\n",
    "        coef, _ = poisoned_lasso(target, mid, X, y)\n",
    "        if(abs(coef) > 1e-6):\n",
    "            prev_coef, _ = poisoned_lasso(target, mid - 1, X, y)\n",
    "            if(abs(prev_coef) <= 1e-6):\n",
    "                found = True\n",
    "                target_k_dict[target] = mid\n",
    "            else:\n",
    "                last = mid - 1\n",
    "        else:\n",
    "            first = mid + 1\n",
    "            \n",
    "sorted_target_k_dict = {k: v for k, v in sorted(target_k_dict.items(), key=lambda item: item[1])}"
   ]
  },
  {
   "cell_type": "code",
   "execution_count": 8,
   "metadata": {},
   "outputs": [
    {
     "data": {
      "image/png": "[encoded data removed]",
      "text/plain": [
       "<Figure size 1440x216 with 1 Axes>"
      ]
     },
     "metadata": {
      "needs_background": "light"
     },
     "output_type": "display_data"
    }
   ],
   "source": [
    "# Plot the results for all the features\n",
    "plot_features_k_full(sorted_target_k_dict)"
   ]
  },
  {
   "cell_type": "code",
   "execution_count": 9,
   "metadata": {},
   "outputs": [
    {
     "data": {
      "image/png": "[encoded data removed]",
      "text/plain": [
       "<Figure size 1440x216 with 1 Axes>"
      ]
     },
     "metadata": {
      "needs_background": "light"
     },
     "output_type": "display_data"
    }
   ],
   "source": [
    "# Plot the results for random subset of size\n",
    "size = 50\n",
    "plot_features_k_random_subset(sorted_target_k_dict, size)"
   ]
  },
  {
   "cell_type": "code",
   "execution_count": 11,
   "metadata": {},
   "outputs": [],
   "source": [
    "# Just for plotting the final images\n",
    "import pickle\n",
    "with open('TOX_dict.pkl', 'wb') as file:\n",
    "    pickle.dump(sorted_target_k_dict, file)"
   ]
  }
 ],
 "metadata": {
  "kernelspec": {
   "display_name": "Python 3",
   "language": "python",
   "name": "python3"
  },
  "language_info": {
   "codemirror_mode": {
    "name": "ipython",
    "version": 3
   },
   "file_extension": ".py",
   "mimetype": "text/x-python",
   "name": "python",
   "nbconvert_exporter": "python",
   "pygments_lexer": "ipython3",
   "version": "3.7.6"
  }
 },
 "nbformat": 4,
 "nbformat_minor": 4
}
