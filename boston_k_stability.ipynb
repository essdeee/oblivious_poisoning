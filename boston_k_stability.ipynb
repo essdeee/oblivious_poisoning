{
 "cells": [
  {
   "cell_type": "markdown",
   "metadata": {},
   "source": [
    "# Boston Dataset: k-Stability Experiments\n",
    "Experiments to show that there exist features that are k-unstable."
   ]
  },
  {
   "cell_type": "code",
   "execution_count": 9,
   "metadata": {},
   "outputs": [],
   "source": [
    "import pandas as pd\n",
    "import matplotlib.pyplot as plt\n",
    "import numpy as np\n",
    "import pickle\n",
    "\n",
    "from sklearn.linear_model import Lasso\n",
    "from sklearn.datasets import load_boston\n",
    "from sklearn.preprocessing import StandardScaler"
   ]
  },
  {
   "cell_type": "markdown",
   "metadata": {},
   "source": [
    "## Load dataset\n",
    "Load the Boston dataset. There are 506 instances, 13 features and a continuous outcome variable in range [0, 50]. We standardize by subtracting the mean and dividing by the std. deviation.\n",
    "\n",
    "The Boston dataset contains information collected by the U.S Census Service concerning housing in the area of Boston, Massaschusetts. The 13 features include attributes about a certain house, such as INDUS (proportion of non-retail business acres per town), CRIM (per capita crime rate by town), or RM (average number of rooms per dwelling). The outcome variable MEDV is the median value of owner-occupied homes in 1000's."
   ]
  },
  {
   "cell_type": "code",
   "execution_count": 2,
   "metadata": {},
   "outputs": [],
   "source": [
    "X, y = load_boston(return_X_y=True)\n",
    "boston_data = load_boston()\n",
    "features = boston_data['feature_names']\n",
    "\n",
    "# normalize the dataset \n",
    "scaler = StandardScaler()\n",
    "X = scaler.fit_transform(X)\n",
    "y_mean = np.mean(y)\n",
    "y_std = np.std(y)\n",
    "y = (y - y_mean)/y_std"
   ]
  },
  {
   "cell_type": "markdown",
   "metadata": {},
   "source": [
    "## LASSO Model\n",
    "We use Lasso Regression to find the k-unstable features. Following optimization problem (in the language of the paper):\n",
    "\n",
    "$$\\min_{\\theta} \\frac{1}{n} \\|Y - X\\theta|_2^2 + \\frac{2\\lambda}{n} \\|\\theta\\|_1$$\n",
    "\n",
    "Because Lasso induces sparsity on the resulting $\\theta$ vector of the model (typically used for feature selection), we find all the features that get set to 0, and call this our \"target set.\" We aim to loop through the features in our \"target set\" and find the smallest value of $k$ (the number of poison rows) that adds that specific feature to $\\theta$. \n",
    "\n",
    "sklearn's implementation of LASSO, that we're using here, is the following equivalent optimization problem, with hyperparameter $\\alpha$:\n",
    "\n",
    "$$\\min_{\\theta} \\frac{1}{2n} \\|Y - X \\theta\\|_2^2 + \\alpha \\|\\theta\\|_1$$"
   ]
  },
  {
   "cell_type": "code",
   "execution_count": 3,
   "metadata": {},
   "outputs": [
    {
     "name": "stdout",
     "output_type": "stream",
     "text": [
      "[-0.          0.         -0.          0.00739486 -0.          0.30018561\n",
      " -0.         -0.         -0.         -0.         -0.15076236  0.02623961\n",
      " -0.38700974]\n"
     ]
    }
   ],
   "source": [
    "lasso = Lasso(alpha=0.1) # default: alpha = 1.0\n",
    "lasso_coef = lasso.fit(X,y).coef_\n",
    "print(lasso_coef)"
   ]
  },
  {
   "cell_type": "code",
   "execution_count": 4,
   "metadata": {},
   "outputs": [
    {
     "name": "stdout",
     "output_type": "stream",
     "text": [
      "[0 1 2 4 6 7 8 9]\n"
     ]
    }
   ],
   "source": [
    "support = np.where(abs(lasso_coef) > 1.e-6)[0]\n",
    "target_set = np.where(abs(lasso_coef) <= 1e-6)[0]\n",
    "print(target_set)"
   ]
  },
  {
   "cell_type": "markdown",
   "metadata": {},
   "source": [
    "### Poisoning Attack\n",
    "We follow the poisoning attack proposed in **Theorem 4.5** and **Construction 4.6**. That is, for some $k$, the number of posion rows, we generate:\n",
    "\n",
    "$$X_p = \\left[ {\\begin{array}{cccc}\n",
    "   0 & \\dots & 1 & \\dots & 0 \\\\\n",
    "   \\vdots & \\ddots & \\vdots & \\ddots & \\vdots \\\\\n",
    "   0 & \\dots & 1 & \\dots & 0 \\\\\n",
    "  \\end{array} } \n",
    "  \\right]\n",
    "$$\n",
    "\n",
    "for the features of our attack, and \n",
    "\n",
    "$$Y_p = \\left[ {\\begin{array}{c}\n",
    "   1 \\\\\n",
    "   \\vdots \\\\\n",
    "   1\n",
    "  \\end{array} } \n",
    "  \\right]\n",
    "$$\n",
    "\n",
    "for the outcome variable of our attack. Then, for $X_0$ and $Y_0$ our original dataset, we append the poison rows $X_p$ and $Y_p$ to get:\n",
    "\n",
    "$$\\left[ {\\begin{array}{c|c}\n",
    "   X_0 & Y_0 \\\\\n",
    "   X_p & Y_p \\\\\n",
    "  \\end{array} } \n",
    "  \\right]\n",
    "$$"
   ]
  },
  {
   "cell_type": "code",
   "execution_count": 5,
   "metadata": {},
   "outputs": [],
   "source": [
    "# takes the number of rows to poison, fits a LASSO on the poisoned dataset\n",
    "def poisoned_lasso(target, poison_rows, X, y): \n",
    "    # Generate poison vectors\n",
    "    X_poison = np.zeros(shape=(poison_rows, len(X[0])))\n",
    "    X_poison[:, target] += 1 # switch last column to 1's\n",
    "    y_poison = np.ones(poison_rows)        \n",
    "\n",
    "    # Poisoned datasets\n",
    "    X_poisoned = np.vstack([X, X_poison])\n",
    "    y_poisoned = np.append(y, y_poison)\n",
    "    \n",
    "    poisoned_lasso = lasso.fit(X_poisoned,y_poisoned)\n",
    "    return poisoned_lasso.coef_[target], poisoned_lasso.coef_"
   ]
  },
  {
   "cell_type": "markdown",
   "metadata": {},
   "source": [
    "### Experiment Setup\n",
    "We aim to find features that exhibit k-unstability, as compared to the other features in our dataset. To do this, we iteratively attempt the poison attack on each feature $i$, varying $k$ (the number of rows in our poison attack) until we find the smallest $k$ that adds $i$ to the sparse LASSO vector (\"adding\" meaning making its value positive). Do this for each feature. \n",
    "\n",
    "Conjecture: there exist some features that are much more k-unstable than others, i.e. the $k$ needed to poison that feature is substantially lower than the average value of $k$ across all features."
   ]
  },
  {
   "cell_type": "code",
   "execution_count": 6,
   "metadata": {},
   "outputs": [],
   "source": [
    "# Binary Search for k-values\n",
    "# can't really do this because, at some point, they just all go to 0 again. \n",
    "# one possible solution if we really need binary search: try over a set of possible K_RANGES\n",
    "K_RANGE = 3000\n",
    "k_values = list(range(K_RANGE))\n",
    "target_k_dict = dict()\n",
    "\n",
    "for target in target_set:\n",
    "    first = 0\n",
    "    last = K_RANGE - 1\n",
    "    found = False\n",
    "    while(first <= last and not found):\n",
    "        mid = (first + last)//2\n",
    "        coef, _ = poisoned_lasso(target, mid, X, y)\n",
    "        if(abs(coef) > 1e-6):\n",
    "            prev_coef, _ = poisoned_lasso(target, mid - 1, X, y)\n",
    "            if(abs(prev_coef) <= 1e-6):\n",
    "                found = True\n",
    "                target_k_dict[target] = mid\n",
    "            else:\n",
    "                last = mid - 1\n",
    "        else:\n",
    "            first = mid + 1"
   ]
  },
  {
   "cell_type": "code",
   "execution_count": 7,
   "metadata": {},
   "outputs": [
    {
     "data": {
      "image/png": "[encoded data removed]",
      "text/plain": [
       "<Figure size 432x288 with 1 Axes>"
      ]
     },
     "metadata": {
      "needs_background": "light"
     },
     "output_type": "display_data"
    }
   ],
   "source": [
    "# Plot the results\n",
    "mean_k = np.asarray(list(target_k_dict.values())).mean()\n",
    "sorted_target_k_dict = {k: v for k, v in sorted(target_k_dict.items(), key=lambda item: item[1])}\n",
    "# Set color of minimum feature\n",
    "colors = ['c']*len(list(target_k_dict.values()))\n",
    "colors[0] = 'r'\n",
    "plt.bar(range(len(sorted_target_k_dict)), list(sorted_target_k_dict.values()), align='center', color=colors)\n",
    "x_ticks = []\n",
    "for key in list(sorted_target_k_dict.keys()):\n",
    "    x_ticks.append(str(key) + ' (' + str(features[key]) + ')')\n",
    "plt.xticks(range(len(sorted_target_k_dict)), x_ticks, rotation=60)\n",
    "plt.axhline(y=mean_k,linewidth=1, color='r')\n",
    "plt.xlabel(\"Features Not in Supp\")\n",
    "plt.ylabel(\"Minimum rows to add to Supp\")\n",
    "plt.show()"
   ]
  },
  {
   "cell_type": "code",
   "execution_count": 10,
   "metadata": {},
   "outputs": [],
   "source": [
    "with open('boston_data.pkl', 'wb') as file:\n",
    "    pickle.dump(sorted_target_k_dict, file)"
   ]
  },
  {
   "cell_type": "code",
   "execution_count": 18,
   "metadata": {},
   "outputs": [
    {
     "data": {
      "text/plain": [
       "<Figure size 432x288 with 0 Axes>"
      ]
     },
     "metadata": {},
     "output_type": "display_data"
    }
   ],
   "source": [
    "plt.savefig(\"boston.png\", dpi=300)"
   ]
  },
  {
   "cell_type": "markdown",
   "metadata": {},
   "source": [
    "Check if there are any features in the original set of targets that never got added to the Lasso vector, for our given range of $k$. "
   ]
  },
  {
   "cell_type": "code",
   "execution_count": 19,
   "metadata": {},
   "outputs": [
    {
     "data": {
      "text/plain": [
       "set()"
      ]
     },
     "execution_count": 19,
     "metadata": {},
     "output_type": "execute_result"
    }
   ],
   "source": [
    "# note the values in the target set that never get added to support\n",
    "set(target_set).difference(target_k_dict.keys())"
   ]
  },
  {
   "cell_type": "code",
   "execution_count": 15,
   "metadata": {},
   "outputs": [],
   "source": [
    "# Main Loop\n",
    "K_RANGE = 5000\n",
    "\n",
    "target_k_dict = dict()\n",
    "for target in target_set:\n",
    "    for k in range(K_RANGE):\n",
    "        poison_rows = k\n",
    "        \n",
    "        # Generate poison vectors\n",
    "        X_poison = np.zeros(shape=(poison_rows, len(lasso_coef)))\n",
    "        X_poison[:, target] += 1 # switch last column to 1's\n",
    "        y_poison = np.ones(poison_rows)        \n",
    "\n",
    "        # Poisoned datasets\n",
    "        X_poisoned = np.vstack([X, X_poison])\n",
    "        y_poisoned = np.append(y, y_poison)\n",
    "        \n",
    "        # Check poisoned dataset\n",
    "        if(abs(lasso.fit(X_poisoned,y_poisoned).coef_[target]) > 1e-6):\n",
    "            target_k_dict[target] = k\n",
    "            break"
   ]
  },
  {
   "cell_type": "code",
   "execution_count": 16,
   "metadata": {},
   "outputs": [
    {
     "data": {
      "image/png": "[encoded data removed]",
      "text/plain": [
       "<Figure size 432x288 with 1 Axes>"
      ]
     },
     "metadata": {
      "needs_background": "light"
     },
     "output_type": "display_data"
    }
   ],
   "source": [
    "# Plot the results\n",
    "mean_k = np.asarray(list(target_k_dict.values())).mean()\n",
    "sorted_target_k_dict = {k: v for k, v in sorted(target_k_dict.items(), key=lambda item: item[1])}\n",
    "# Set color of minimum feature\n",
    "colors = ['c']*len(list(target_k_dict.values()))\n",
    "colors[0] = 'r'\n",
    "plt.bar(range(len(sorted_target_k_dict)), list(sorted_target_k_dict.values()), align='center', color=colors)\n",
    "x_ticks = []\n",
    "for key in list(sorted_target_k_dict.keys()):\n",
    "    x_ticks.append(str(key) + ' (' + str(features[key]) + ')')\n",
    "plt.xticks(range(len(sorted_target_k_dict)), x_ticks, rotation=60)\n",
    "plt.axhline(y=mean_k,linewidth=1, color='r')\n",
    "plt.xlabel(\"Features Not in Supp\")\n",
    "plt.ylabel(\"Minimum rows to add to Supp\")\n",
    "plt.show()"
   ]
  },
  {
   "cell_type": "code",
   "execution_count": null,
   "metadata": {},
   "outputs": [],
   "source": []
  }
 ],
 "metadata": {
  "kernelspec": {
   "display_name": "Python 3",
   "language": "python",
   "name": "python3"
  },
  "language_info": {
   "codemirror_mode": {
    "name": "ipython",
    "version": 3
   },
   "file_extension": ".py",
   "mimetype": "text/x-python",
   "name": "python",
   "nbconvert_exporter": "python",
   "pygments_lexer": "ipython3",
   "version": "3.7.6"
  }
 },
 "nbformat": 4,
 "nbformat_minor": 4
}
